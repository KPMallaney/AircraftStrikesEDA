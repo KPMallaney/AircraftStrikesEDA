{
 "cells": [
  {
   "cell_type": "markdown",
   "id": "23a40c94",
   "metadata": {},
   "source": [
    "<div style=\"padding:30px; \n",
    "            color:white;\n",
    "            margin:10px;\n",
    "            font-size:180%;\n",
    "            text-align:center;\n",
    "            display:fill;\n",
    "            border-radius:20px;\n",
    "            border-width: 5px;\n",
    "            border-style: solid;\n",
    "            border-color:white;\n",
    "            background-color:black;\n",
    "            font-family:Luminari;\n",
    "            overflow:hidden;\n",
    "            font-weight:500\">Aircraft Wildlife Strikes 1990-2023</div>"
   ]
  },
  {
   "cell_type": "code",
   "execution_count": 1,
   "id": "d93596bf",
   "metadata": {},
   "outputs": [],
   "source": [
    "import pandas as pd\n",
    "import numpy as np\n",
    "import seaborn as sns\n",
    "import matplotlib.pyplot as plt\n",
    "import plotly.express as px\n",
    "import plotly.graph_objects as go"
   ]
  },
  {
   "cell_type": "code",
   "execution_count": 2,
   "id": "8d273a91",
   "metadata": {},
   "outputs": [
    {
     "name": "stderr",
     "output_type": "stream",
     "text": [
      "C:\\Users\\KPMal\\AppData\\Local\\Temp\\ipykernel_27604\\1840193475.py:1: DtypeWarning: Columns (18,21) have mixed types. Specify dtype option on import or set low_memory=False.\n",
      "  df = pd.read_csv('STRIKE_REPORTS.csv')\n"
     ]
    }
   ],
   "source": [
    "df = pd.read_csv('STRIKE_REPORTS.csv')"
   ]
  },
  {
   "cell_type": "code",
   "execution_count": 3,
   "id": "372a6ac1",
   "metadata": {},
   "outputs": [
    {
     "data": {
      "text/html": [
       "<div>\n",
       "<style scoped>\n",
       "    .dataframe tbody tr th:only-of-type {\n",
       "        vertical-align: middle;\n",
       "    }\n",
       "\n",
       "    .dataframe tbody tr th {\n",
       "        vertical-align: top;\n",
       "    }\n",
       "\n",
       "    .dataframe thead th {\n",
       "        text-align: right;\n",
       "    }\n",
       "</style>\n",
       "<table border=\"1\" class=\"dataframe\">\n",
       "  <thead>\n",
       "    <tr style=\"text-align: right;\">\n",
       "      <th></th>\n",
       "      <th>INDEX_NR</th>\n",
       "      <th>INCIDENT_DATE</th>\n",
       "      <th>INCIDENT_MONTH</th>\n",
       "      <th>INCIDENT_YEAR</th>\n",
       "      <th>TIME</th>\n",
       "      <th>TIME_OF_DAY</th>\n",
       "      <th>AIRPORT_ID</th>\n",
       "      <th>AIRPORT</th>\n",
       "      <th>LATITUDE</th>\n",
       "      <th>LONGITUDE</th>\n",
       "      <th>...</th>\n",
       "      <th>SIZE</th>\n",
       "      <th>NR_INJURIES</th>\n",
       "      <th>NR_FATALITIES</th>\n",
       "      <th>COMMENTS</th>\n",
       "      <th>REPORTED_NAME</th>\n",
       "      <th>REPORTED_TITLE</th>\n",
       "      <th>SOURCE</th>\n",
       "      <th>PERSON</th>\n",
       "      <th>LUPDATE</th>\n",
       "      <th>TRANSFER</th>\n",
       "    </tr>\n",
       "  </thead>\n",
       "  <tbody>\n",
       "    <tr>\n",
       "      <th>0</th>\n",
       "      <td>608242</td>\n",
       "      <td>6/22/1996</td>\n",
       "      <td>6</td>\n",
       "      <td>1996</td>\n",
       "      <td>NaN</td>\n",
       "      <td>NaN</td>\n",
       "      <td>KSMF</td>\n",
       "      <td>SACRAMENTO INTL</td>\n",
       "      <td>38.69542</td>\n",
       "      <td>-121.59077</td>\n",
       "      <td>...</td>\n",
       "      <td>Medium</td>\n",
       "      <td>NaN</td>\n",
       "      <td>NaN</td>\n",
       "      <td>/Legacy Record=100001/</td>\n",
       "      <td>REDACTED</td>\n",
       "      <td>REDACTED</td>\n",
       "      <td>Air Transport Report</td>\n",
       "      <td>Air Transport Operations</td>\n",
       "      <td>12/20/2007</td>\n",
       "      <td>False</td>\n",
       "    </tr>\n",
       "    <tr>\n",
       "      <th>1</th>\n",
       "      <td>608243</td>\n",
       "      <td>6/26/1996</td>\n",
       "      <td>6</td>\n",
       "      <td>1996</td>\n",
       "      <td>NaN</td>\n",
       "      <td>NaN</td>\n",
       "      <td>KDEN</td>\n",
       "      <td>DENVER INTL AIRPORT</td>\n",
       "      <td>39.85841</td>\n",
       "      <td>-104.66700</td>\n",
       "      <td>...</td>\n",
       "      <td>Medium</td>\n",
       "      <td>NaN</td>\n",
       "      <td>NaN</td>\n",
       "      <td>/Legacy Record=100002/</td>\n",
       "      <td>REDACTED</td>\n",
       "      <td>REDACTED</td>\n",
       "      <td>Air Transport Report</td>\n",
       "      <td>Air Transport Operations</td>\n",
       "      <td>12/20/2007</td>\n",
       "      <td>False</td>\n",
       "    </tr>\n",
       "    <tr>\n",
       "      <th>2</th>\n",
       "      <td>608244</td>\n",
       "      <td>7/1/1996</td>\n",
       "      <td>7</td>\n",
       "      <td>1996</td>\n",
       "      <td>NaN</td>\n",
       "      <td>NaN</td>\n",
       "      <td>KOMA</td>\n",
       "      <td>EPPLEY AIRFIELD</td>\n",
       "      <td>41.30252</td>\n",
       "      <td>-95.89417</td>\n",
       "      <td>...</td>\n",
       "      <td>Medium</td>\n",
       "      <td>NaN</td>\n",
       "      <td>NaN</td>\n",
       "      <td>/Legacy Record=100003/</td>\n",
       "      <td>REDACTED</td>\n",
       "      <td>REDACTED</td>\n",
       "      <td>Air Transport Report</td>\n",
       "      <td>Air Transport Operations</td>\n",
       "      <td>12/20/2007</td>\n",
       "      <td>False</td>\n",
       "    </tr>\n",
       "    <tr>\n",
       "      <th>3</th>\n",
       "      <td>608245</td>\n",
       "      <td>7/1/1996</td>\n",
       "      <td>7</td>\n",
       "      <td>1996</td>\n",
       "      <td>NaN</td>\n",
       "      <td>NaN</td>\n",
       "      <td>KIAD</td>\n",
       "      <td>WASHINGTON DULLES INTL ARPT</td>\n",
       "      <td>38.94453</td>\n",
       "      <td>-77.45581</td>\n",
       "      <td>...</td>\n",
       "      <td>Medium</td>\n",
       "      <td>NaN</td>\n",
       "      <td>NaN</td>\n",
       "      <td>/Legacy Record=100004/</td>\n",
       "      <td>REDACTED</td>\n",
       "      <td>REDACTED</td>\n",
       "      <td>Air Transport Report</td>\n",
       "      <td>Air Transport Operations</td>\n",
       "      <td>12/20/2007</td>\n",
       "      <td>False</td>\n",
       "    </tr>\n",
       "    <tr>\n",
       "      <th>4</th>\n",
       "      <td>608246</td>\n",
       "      <td>7/1/1996</td>\n",
       "      <td>7</td>\n",
       "      <td>1996</td>\n",
       "      <td>NaN</td>\n",
       "      <td>NaN</td>\n",
       "      <td>KLGA</td>\n",
       "      <td>LA GUARDIA ARPT</td>\n",
       "      <td>40.77724</td>\n",
       "      <td>-73.87261</td>\n",
       "      <td>...</td>\n",
       "      <td>Medium</td>\n",
       "      <td>NaN</td>\n",
       "      <td>NaN</td>\n",
       "      <td>/Legacy Record=100005/</td>\n",
       "      <td>REDACTED</td>\n",
       "      <td>REDACTED</td>\n",
       "      <td>Air Transport Report</td>\n",
       "      <td>Air Transport Operations</td>\n",
       "      <td>12/20/2007</td>\n",
       "      <td>False</td>\n",
       "    </tr>\n",
       "    <tr>\n",
       "      <th>...</th>\n",
       "      <td>...</td>\n",
       "      <td>...</td>\n",
       "      <td>...</td>\n",
       "      <td>...</td>\n",
       "      <td>...</td>\n",
       "      <td>...</td>\n",
       "      <td>...</td>\n",
       "      <td>...</td>\n",
       "      <td>...</td>\n",
       "      <td>...</td>\n",
       "      <td>...</td>\n",
       "      <td>...</td>\n",
       "      <td>...</td>\n",
       "      <td>...</td>\n",
       "      <td>...</td>\n",
       "      <td>...</td>\n",
       "      <td>...</td>\n",
       "      <td>...</td>\n",
       "      <td>...</td>\n",
       "      <td>...</td>\n",
       "      <td>...</td>\n",
       "    </tr>\n",
       "    <tr>\n",
       "      <th>288805</th>\n",
       "      <td>1472253</td>\n",
       "      <td>8/28/2023</td>\n",
       "      <td>8</td>\n",
       "      <td>2023</td>\n",
       "      <td>21:50</td>\n",
       "      <td>NaN</td>\n",
       "      <td>ZZZZ</td>\n",
       "      <td>UNKNOWN</td>\n",
       "      <td>NaN</td>\n",
       "      <td>NaN</td>\n",
       "      <td>...</td>\n",
       "      <td>Small</td>\n",
       "      <td>NaN</td>\n",
       "      <td>NaN</td>\n",
       "      <td>NaN</td>\n",
       "      <td>REDACTED</td>\n",
       "      <td>REDACTED</td>\n",
       "      <td>FAA Form 5200-7-E</td>\n",
       "      <td>Airport Operations</td>\n",
       "      <td>11/17/2023</td>\n",
       "      <td>False</td>\n",
       "    </tr>\n",
       "    <tr>\n",
       "      <th>288806</th>\n",
       "      <td>1472256</td>\n",
       "      <td>8/28/2023</td>\n",
       "      <td>8</td>\n",
       "      <td>2023</td>\n",
       "      <td>20:40</td>\n",
       "      <td>NaN</td>\n",
       "      <td>ZZZZ</td>\n",
       "      <td>UNKNOWN</td>\n",
       "      <td>NaN</td>\n",
       "      <td>NaN</td>\n",
       "      <td>...</td>\n",
       "      <td>Small</td>\n",
       "      <td>NaN</td>\n",
       "      <td>NaN</td>\n",
       "      <td>NaN</td>\n",
       "      <td>REDACTED</td>\n",
       "      <td>REDACTED</td>\n",
       "      <td>FAA Form 5200-7-E</td>\n",
       "      <td>Airport Operations</td>\n",
       "      <td>11/17/2023</td>\n",
       "      <td>False</td>\n",
       "    </tr>\n",
       "    <tr>\n",
       "      <th>288807</th>\n",
       "      <td>1472257</td>\n",
       "      <td>8/28/2023</td>\n",
       "      <td>8</td>\n",
       "      <td>2023</td>\n",
       "      <td>07:14</td>\n",
       "      <td>Dusk</td>\n",
       "      <td>KDTW</td>\n",
       "      <td>DETROIT METRO WAYNE COUNTY ARPT</td>\n",
       "      <td>42.21206</td>\n",
       "      <td>-83.34884</td>\n",
       "      <td>...</td>\n",
       "      <td>Small</td>\n",
       "      <td>NaN</td>\n",
       "      <td>NaN</td>\n",
       "      <td>NaN</td>\n",
       "      <td>REDACTED</td>\n",
       "      <td>REDACTED</td>\n",
       "      <td>FAA Form 5200-7-E</td>\n",
       "      <td>Airport Operations</td>\n",
       "      <td>11/17/2023</td>\n",
       "      <td>False</td>\n",
       "    </tr>\n",
       "    <tr>\n",
       "      <th>288808</th>\n",
       "      <td>1472258</td>\n",
       "      <td>8/28/2023</td>\n",
       "      <td>8</td>\n",
       "      <td>2023</td>\n",
       "      <td>09:00</td>\n",
       "      <td>Day</td>\n",
       "      <td>KPIH</td>\n",
       "      <td>POCATELLO REGIONAL ARPT</td>\n",
       "      <td>42.91131</td>\n",
       "      <td>-112.59586</td>\n",
       "      <td>...</td>\n",
       "      <td>Medium</td>\n",
       "      <td>NaN</td>\n",
       "      <td>NaN</td>\n",
       "      <td>NaN</td>\n",
       "      <td>REDACTED</td>\n",
       "      <td>REDACTED</td>\n",
       "      <td>FAA Form 5200-7-E</td>\n",
       "      <td>Airport Operations</td>\n",
       "      <td>11/17/2023</td>\n",
       "      <td>False</td>\n",
       "    </tr>\n",
       "    <tr>\n",
       "      <th>288809</th>\n",
       "      <td>1472259</td>\n",
       "      <td>8/28/2023</td>\n",
       "      <td>8</td>\n",
       "      <td>2023</td>\n",
       "      <td>10:15</td>\n",
       "      <td>NaN</td>\n",
       "      <td>KAMA</td>\n",
       "      <td>RICK HUSBAND AMARILLO INTL</td>\n",
       "      <td>35.21937</td>\n",
       "      <td>-101.70593</td>\n",
       "      <td>...</td>\n",
       "      <td>Small</td>\n",
       "      <td>NaN</td>\n",
       "      <td>NaN</td>\n",
       "      <td>NaN</td>\n",
       "      <td>REDACTED</td>\n",
       "      <td>REDACTED</td>\n",
       "      <td>FAA Form 5200-7-E</td>\n",
       "      <td>Carcass Found</td>\n",
       "      <td>11/17/2023</td>\n",
       "      <td>False</td>\n",
       "    </tr>\n",
       "  </tbody>\n",
       "</table>\n",
       "<p>288810 rows × 100 columns</p>\n",
       "</div>"
      ],
      "text/plain": [
       "        INDEX_NR INCIDENT_DATE  INCIDENT_MONTH  INCIDENT_YEAR   TIME  \\\n",
       "0         608242     6/22/1996               6           1996    NaN   \n",
       "1         608243     6/26/1996               6           1996    NaN   \n",
       "2         608244      7/1/1996               7           1996    NaN   \n",
       "3         608245      7/1/1996               7           1996    NaN   \n",
       "4         608246      7/1/1996               7           1996    NaN   \n",
       "...          ...           ...             ...            ...    ...   \n",
       "288805   1472253     8/28/2023               8           2023  21:50   \n",
       "288806   1472256     8/28/2023               8           2023  20:40   \n",
       "288807   1472257     8/28/2023               8           2023  07:14   \n",
       "288808   1472258     8/28/2023               8           2023  09:00   \n",
       "288809   1472259     8/28/2023               8           2023  10:15   \n",
       "\n",
       "       TIME_OF_DAY AIRPORT_ID                          AIRPORT  LATITUDE  \\\n",
       "0              NaN       KSMF                  SACRAMENTO INTL  38.69542   \n",
       "1              NaN       KDEN              DENVER INTL AIRPORT  39.85841   \n",
       "2              NaN       KOMA                  EPPLEY AIRFIELD  41.30252   \n",
       "3              NaN       KIAD      WASHINGTON DULLES INTL ARPT  38.94453   \n",
       "4              NaN       KLGA                  LA GUARDIA ARPT  40.77724   \n",
       "...            ...        ...                              ...       ...   \n",
       "288805         NaN       ZZZZ                          UNKNOWN       NaN   \n",
       "288806         NaN       ZZZZ                          UNKNOWN       NaN   \n",
       "288807        Dusk       KDTW  DETROIT METRO WAYNE COUNTY ARPT  42.21206   \n",
       "288808         Day       KPIH          POCATELLO REGIONAL ARPT  42.91131   \n",
       "288809         NaN       KAMA       RICK HUSBAND AMARILLO INTL  35.21937   \n",
       "\n",
       "        LONGITUDE  ...    SIZE NR_INJURIES NR_FATALITIES  \\\n",
       "0      -121.59077  ...  Medium         NaN           NaN   \n",
       "1      -104.66700  ...  Medium         NaN           NaN   \n",
       "2       -95.89417  ...  Medium         NaN           NaN   \n",
       "3       -77.45581  ...  Medium         NaN           NaN   \n",
       "4       -73.87261  ...  Medium         NaN           NaN   \n",
       "...           ...  ...     ...         ...           ...   \n",
       "288805        NaN  ...   Small         NaN           NaN   \n",
       "288806        NaN  ...   Small         NaN           NaN   \n",
       "288807  -83.34884  ...   Small         NaN           NaN   \n",
       "288808 -112.59586  ...  Medium         NaN           NaN   \n",
       "288809 -101.70593  ...   Small         NaN           NaN   \n",
       "\n",
       "                      COMMENTS REPORTED_NAME REPORTED_TITLE  \\\n",
       "0       /Legacy Record=100001/      REDACTED       REDACTED   \n",
       "1       /Legacy Record=100002/      REDACTED       REDACTED   \n",
       "2       /Legacy Record=100003/      REDACTED       REDACTED   \n",
       "3       /Legacy Record=100004/      REDACTED       REDACTED   \n",
       "4       /Legacy Record=100005/      REDACTED       REDACTED   \n",
       "...                        ...           ...            ...   \n",
       "288805                     NaN      REDACTED       REDACTED   \n",
       "288806                     NaN      REDACTED       REDACTED   \n",
       "288807                     NaN      REDACTED       REDACTED   \n",
       "288808                     NaN      REDACTED       REDACTED   \n",
       "288809                     NaN      REDACTED       REDACTED   \n",
       "\n",
       "                      SOURCE                    PERSON     LUPDATE TRANSFER  \n",
       "0       Air Transport Report  Air Transport Operations  12/20/2007    False  \n",
       "1       Air Transport Report  Air Transport Operations  12/20/2007    False  \n",
       "2       Air Transport Report  Air Transport Operations  12/20/2007    False  \n",
       "3       Air Transport Report  Air Transport Operations  12/20/2007    False  \n",
       "4       Air Transport Report  Air Transport Operations  12/20/2007    False  \n",
       "...                      ...                       ...         ...      ...  \n",
       "288805     FAA Form 5200-7-E        Airport Operations  11/17/2023    False  \n",
       "288806     FAA Form 5200-7-E        Airport Operations  11/17/2023    False  \n",
       "288807     FAA Form 5200-7-E        Airport Operations  11/17/2023    False  \n",
       "288808     FAA Form 5200-7-E        Airport Operations  11/17/2023    False  \n",
       "288809     FAA Form 5200-7-E             Carcass Found  11/17/2023    False  \n",
       "\n",
       "[288810 rows x 100 columns]"
      ]
     },
     "execution_count": 3,
     "metadata": {},
     "output_type": "execute_result"
    }
   ],
   "source": [
    "df"
   ]
  },
  {
   "cell_type": "code",
   "execution_count": 4,
   "id": "cc202008",
   "metadata": {},
   "outputs": [
    {
     "name": "stdout",
     "output_type": "stream",
     "text": [
      "<class 'pandas.core.frame.DataFrame'>\n",
      "RangeIndex: 288810 entries, 0 to 288809\n",
      "Data columns (total 100 columns):\n",
      " #   Column                 Non-Null Count   Dtype  \n",
      "---  ------                 --------------   -----  \n",
      " 0   INDEX_NR               288810 non-null  int64  \n",
      " 1   INCIDENT_DATE          288810 non-null  object \n",
      " 2   INCIDENT_MONTH         288810 non-null  int64  \n",
      " 3   INCIDENT_YEAR          288810 non-null  int64  \n",
      " 4   TIME                   163633 non-null  object \n",
      " 5   TIME_OF_DAY            166394 non-null  object \n",
      " 6   AIRPORT_ID             288804 non-null  object \n",
      " 7   AIRPORT                288810 non-null  object \n",
      " 8   LATITUDE               253309 non-null  float64\n",
      " 9   LONGITUDE              253308 non-null  float64\n",
      " 10  RUNWAY                 218852 non-null  object \n",
      " 11  STATE                  253309 non-null  object \n",
      " 12  FAAREGION              253309 non-null  object \n",
      " 13  LOCATION               33939 non-null   object \n",
      " 14  ENROUTE_STATE          5037 non-null    object \n",
      " 15  OPID                   288784 non-null  object \n",
      " 16  OPERATOR               288810 non-null  object \n",
      " 17  REG                    172543 non-null  object \n",
      " 18  FLT                    129249 non-null  object \n",
      " 19  AIRCRAFT               288810 non-null  object \n",
      " 20  AMA                    205475 non-null  object \n",
      " 21  AMO                    190159 non-null  object \n",
      " 22  EMA                    192151 non-null  float64\n",
      " 23  EMO                    186756 non-null  float64\n",
      " 24  AC_CLASS               206893 non-null  object \n",
      " 25  AC_MASS                206490 non-null  float64\n",
      " 26  TYPE_ENG               206044 non-null  object \n",
      " 27  NUM_ENGS               206259 non-null  float64\n",
      " 28  ENG_1_POS              205481 non-null  float64\n",
      " 29  ENG_2_POS              191612 non-null  float64\n",
      " 30  ENG_3_POS              13080 non-null   float64\n",
      " 31  ENG_4_POS              3290 non-null    float64\n",
      " 32  PHASE_OF_FLIGHT        177843 non-null  object \n",
      " 33  HEIGHT                 148807 non-null  float64\n",
      " 34  SPEED                  94237 non-null   float64\n",
      " 35  DISTANCE               188234 non-null  float64\n",
      " 36  SKY                    139382 non-null  object \n",
      " 37  PRECIPITATION          11175 non-null   object \n",
      " 38  AOS                    14196 non-null   float64\n",
      " 39  COST_REPAIRS           5040 non-null    object \n",
      " 40  COST_OTHER             4760 non-null    object \n",
      " 41  COST_REPAIRS_INFL_ADJ  5040 non-null    object \n",
      " 42  COST_OTHER_INFL_ADJ    4760 non-null    object \n",
      " 43  INGESTED_OTHER         288810 non-null  bool   \n",
      " 44  INDICATED_DAMAGE       288810 non-null  bool   \n",
      " 45  DAMAGE_LEVEL           187315 non-null  object \n",
      " 46  STR_RAD                288810 non-null  bool   \n",
      " 47  DAM_RAD                288810 non-null  bool   \n",
      " 48  STR_WINDSHLD           288810 non-null  bool   \n",
      " 49  DAM_WINDSHLD           288810 non-null  bool   \n",
      " 50  STR_NOSE               288810 non-null  bool   \n",
      " 51  DAM_NOSE               288810 non-null  bool   \n",
      " 52  STR_ENG1               288810 non-null  bool   \n",
      " 53  DAM_ENG1               288810 non-null  bool   \n",
      " 54  ING_ENG1               288810 non-null  bool   \n",
      " 55  STR_ENG2               288810 non-null  bool   \n",
      " 56  DAM_ENG2               288810 non-null  bool   \n",
      " 57  ING_ENG2               288810 non-null  bool   \n",
      " 58  STR_ENG3               288810 non-null  bool   \n",
      " 59  DAM_ENG3               288810 non-null  bool   \n",
      " 60  ING_ENG3               288810 non-null  bool   \n",
      " 61  STR_ENG4               288810 non-null  bool   \n",
      " 62  DAM_ENG4               288810 non-null  bool   \n",
      " 63  ING_ENG4               288810 non-null  bool   \n",
      " 64  STR_PROP               288810 non-null  bool   \n",
      " 65  DAM_PROP               288810 non-null  bool   \n",
      " 66  STR_WING_ROT           288810 non-null  bool   \n",
      " 67  DAM_WING_ROT           288810 non-null  bool   \n",
      " 68  STR_FUSE               288810 non-null  bool   \n",
      " 69  DAM_FUSE               288810 non-null  bool   \n",
      " 70  STR_LG                 288810 non-null  bool   \n",
      " 71  DAM_LG                 288810 non-null  bool   \n",
      " 72  STR_TAIL               288810 non-null  bool   \n",
      " 73  DAM_TAIL               288810 non-null  bool   \n",
      " 74  STR_LGHTS              288810 non-null  bool   \n",
      " 75  DAM_LGHTS              288810 non-null  bool   \n",
      " 76  STR_OTHER              288810 non-null  bool   \n",
      " 77  DAM_OTHER              288810 non-null  bool   \n",
      " 78  OTHER_SPECIFY          38462 non-null   object \n",
      " 79  EFFECT                 13718 non-null   object \n",
      " 80  EFFECT_OTHER           2221 non-null    object \n",
      " 81  BIRD_BAND_NUMBER       390 non-null     float64\n",
      " 82  SPECIES_ID             288806 non-null  object \n",
      " 83  SPECIES                288809 non-null  object \n",
      " 84  REMARKS                264305 non-null  object \n",
      " 85  REMAINS_COLLECTED      288810 non-null  bool   \n",
      " 86  REMAINS_SENT           288810 non-null  bool   \n",
      " 87  WARNED                 288810 non-null  object \n",
      " 88  NUM_SEEN               94773 non-null   object \n",
      " 89  NUM_STRUCK             288174 non-null  object \n",
      " 90  SIZE                   263538 non-null  object \n",
      " 91  NR_INJURIES            276 non-null     float64\n",
      " 92  NR_FATALITIES          24 non-null      float64\n",
      " 93  COMMENTS               218834 non-null  object \n",
      " 94  REPORTED_NAME          288810 non-null  object \n",
      " 95  REPORTED_TITLE         288810 non-null  object \n",
      " 96  SOURCE                 288810 non-null  object \n",
      " 97  PERSON                 267676 non-null  object \n",
      " 98  LUPDATE                288810 non-null  object \n",
      " 99  TRANSFER               288810 non-null  bool   \n",
      "dtypes: bool(37), float64(17), int64(3), object(43)\n",
      "memory usage: 149.0+ MB\n"
     ]
    }
   ],
   "source": [
    "df.info()"
   ]
  },
  {
   "cell_type": "code",
   "execution_count": 5,
   "id": "5a06e31d",
   "metadata": {},
   "outputs": [
    {
     "data": {
      "text/html": [
       "<div>\n",
       "<style scoped>\n",
       "    .dataframe tbody tr th:only-of-type {\n",
       "        vertical-align: middle;\n",
       "    }\n",
       "\n",
       "    .dataframe tbody tr th {\n",
       "        vertical-align: top;\n",
       "    }\n",
       "\n",
       "    .dataframe thead th {\n",
       "        text-align: right;\n",
       "    }\n",
       "</style>\n",
       "<table border=\"1\" class=\"dataframe\">\n",
       "  <thead>\n",
       "    <tr style=\"text-align: right;\">\n",
       "      <th></th>\n",
       "      <th>INDEX_NR</th>\n",
       "      <th>INCIDENT_MONTH</th>\n",
       "      <th>INCIDENT_YEAR</th>\n",
       "      <th>LATITUDE</th>\n",
       "      <th>LONGITUDE</th>\n",
       "      <th>EMA</th>\n",
       "      <th>EMO</th>\n",
       "      <th>AC_MASS</th>\n",
       "      <th>NUM_ENGS</th>\n",
       "      <th>ENG_1_POS</th>\n",
       "      <th>ENG_2_POS</th>\n",
       "      <th>ENG_3_POS</th>\n",
       "      <th>ENG_4_POS</th>\n",
       "      <th>HEIGHT</th>\n",
       "      <th>SPEED</th>\n",
       "      <th>DISTANCE</th>\n",
       "      <th>AOS</th>\n",
       "      <th>BIRD_BAND_NUMBER</th>\n",
       "      <th>NR_INJURIES</th>\n",
       "      <th>NR_FATALITIES</th>\n",
       "    </tr>\n",
       "  </thead>\n",
       "  <tbody>\n",
       "    <tr>\n",
       "      <th>count</th>\n",
       "      <td>2.888100e+05</td>\n",
       "      <td>288810.000000</td>\n",
       "      <td>288810.000000</td>\n",
       "      <td>2.533090e+05</td>\n",
       "      <td>253308.000000</td>\n",
       "      <td>192151.000000</td>\n",
       "      <td>186756.000000</td>\n",
       "      <td>206490.000000</td>\n",
       "      <td>206259.000000</td>\n",
       "      <td>205481.000000</td>\n",
       "      <td>191612.000000</td>\n",
       "      <td>13080.000000</td>\n",
       "      <td>3290.000000</td>\n",
       "      <td>148807.000000</td>\n",
       "      <td>94237.000000</td>\n",
       "      <td>188234.000000</td>\n",
       "      <td>14196.000000</td>\n",
       "      <td>3.900000e+02</td>\n",
       "      <td>276.000000</td>\n",
       "      <td>24.000000</td>\n",
       "    </tr>\n",
       "    <tr>\n",
       "      <th>mean</th>\n",
       "      <td>8.736693e+05</td>\n",
       "      <td>7.175974</td>\n",
       "      <td>2011.697798</td>\n",
       "      <td>2.012754e+02</td>\n",
       "      <td>-90.880247</td>\n",
       "      <td>19.755812</td>\n",
       "      <td>8.522377</td>\n",
       "      <td>3.538312</td>\n",
       "      <td>2.013929</td>\n",
       "      <td>2.814956</td>\n",
       "      <td>2.667536</td>\n",
       "      <td>2.900306</td>\n",
       "      <td>2.043161</td>\n",
       "      <td>865.960358</td>\n",
       "      <td>142.585057</td>\n",
       "      <td>0.814466</td>\n",
       "      <td>91.454416</td>\n",
       "      <td>8.811022e+07</td>\n",
       "      <td>1.293478</td>\n",
       "      <td>2.041667</td>\n",
       "    </tr>\n",
       "    <tr>\n",
       "      <th>std</th>\n",
       "      <td>2.526448e+05</td>\n",
       "      <td>2.765082</td>\n",
       "      <td>8.432311</td>\n",
       "      <td>8.177522e+04</td>\n",
       "      <td>327.243918</td>\n",
       "      <td>10.724278</td>\n",
       "      <td>12.866405</td>\n",
       "      <td>0.867312</td>\n",
       "      <td>0.420133</td>\n",
       "      <td>2.113806</td>\n",
       "      <td>1.981032</td>\n",
       "      <td>1.950649</td>\n",
       "      <td>1.435114</td>\n",
       "      <td>1843.098801</td>\n",
       "      <td>46.650050</td>\n",
       "      <td>3.547950</td>\n",
       "      <td>661.074472</td>\n",
       "      <td>9.110186e+07</td>\n",
       "      <td>0.756134</td>\n",
       "      <td>1.654484</td>\n",
       "    </tr>\n",
       "    <tr>\n",
       "      <th>min</th>\n",
       "      <td>6.082420e+05</td>\n",
       "      <td>1.000000</td>\n",
       "      <td>1990.000000</td>\n",
       "      <td>-3.767333e+01</td>\n",
       "      <td>-177.381000</td>\n",
       "      <td>0.000000</td>\n",
       "      <td>0.000000</td>\n",
       "      <td>1.000000</td>\n",
       "      <td>1.000000</td>\n",
       "      <td>1.000000</td>\n",
       "      <td>1.000000</td>\n",
       "      <td>1.000000</td>\n",
       "      <td>1.000000</td>\n",
       "      <td>0.000000</td>\n",
       "      <td>0.000000</td>\n",
       "      <td>0.000000</td>\n",
       "      <td>0.000000</td>\n",
       "      <td>0.000000e+00</td>\n",
       "      <td>1.000000</td>\n",
       "      <td>1.000000</td>\n",
       "    </tr>\n",
       "    <tr>\n",
       "      <th>25%</th>\n",
       "      <td>6.893202e+05</td>\n",
       "      <td>5.000000</td>\n",
       "      <td>2006.000000</td>\n",
       "      <td>3.298764e+01</td>\n",
       "      <td>-98.469780</td>\n",
       "      <td>10.000000</td>\n",
       "      <td>1.000000</td>\n",
       "      <td>3.000000</td>\n",
       "      <td>2.000000</td>\n",
       "      <td>1.000000</td>\n",
       "      <td>1.000000</td>\n",
       "      <td>1.000000</td>\n",
       "      <td>1.000000</td>\n",
       "      <td>0.000000</td>\n",
       "      <td>120.000000</td>\n",
       "      <td>0.000000</td>\n",
       "      <td>1.000000</td>\n",
       "      <td>0.000000e+00</td>\n",
       "      <td>1.000000</td>\n",
       "      <td>1.000000</td>\n",
       "    </tr>\n",
       "    <tr>\n",
       "      <th>50%</th>\n",
       "      <td>7.646935e+05</td>\n",
       "      <td>7.000000</td>\n",
       "      <td>2014.000000</td>\n",
       "      <td>3.880581e+01</td>\n",
       "      <td>-87.904460</td>\n",
       "      <td>22.000000</td>\n",
       "      <td>4.000000</td>\n",
       "      <td>4.000000</td>\n",
       "      <td>2.000000</td>\n",
       "      <td>1.000000</td>\n",
       "      <td>1.000000</td>\n",
       "      <td>1.000000</td>\n",
       "      <td>1.000000</td>\n",
       "      <td>50.000000</td>\n",
       "      <td>140.000000</td>\n",
       "      <td>0.000000</td>\n",
       "      <td>3.000000</td>\n",
       "      <td>7.897730e+07</td>\n",
       "      <td>1.000000</td>\n",
       "      <td>1.500000</td>\n",
       "    </tr>\n",
       "    <tr>\n",
       "      <th>75%</th>\n",
       "      <td>1.064714e+06</td>\n",
       "      <td>9.000000</td>\n",
       "      <td>2019.000000</td>\n",
       "      <td>4.085010e+01</td>\n",
       "      <td>-80.417940</td>\n",
       "      <td>31.000000</td>\n",
       "      <td>10.000000</td>\n",
       "      <td>4.000000</td>\n",
       "      <td>2.000000</td>\n",
       "      <td>5.000000</td>\n",
       "      <td>5.000000</td>\n",
       "      <td>5.000000</td>\n",
       "      <td>4.000000</td>\n",
       "      <td>900.000000</td>\n",
       "      <td>160.000000</td>\n",
       "      <td>0.000000</td>\n",
       "      <td>24.000000</td>\n",
       "      <td>1.893343e+08</td>\n",
       "      <td>1.000000</td>\n",
       "      <td>2.000000</td>\n",
       "    </tr>\n",
       "    <tr>\n",
       "      <th>max</th>\n",
       "      <td>1.472259e+06</td>\n",
       "      <td>12.000000</td>\n",
       "      <td>2023.000000</td>\n",
       "      <td>4.115443e+07</td>\n",
       "      <td>164140.000000</td>\n",
       "      <td>92.000000</td>\n",
       "      <td>2301.000000</td>\n",
       "      <td>5.000000</td>\n",
       "      <td>4.000000</td>\n",
       "      <td>7.000000</td>\n",
       "      <td>7.000000</td>\n",
       "      <td>6.000000</td>\n",
       "      <td>5.000000</td>\n",
       "      <td>31300.000000</td>\n",
       "      <td>1250.000000</td>\n",
       "      <td>99.000000</td>\n",
       "      <td>62848.000000</td>\n",
       "      <td>2.821218e+08</td>\n",
       "      <td>7.000000</td>\n",
       "      <td>8.000000</td>\n",
       "    </tr>\n",
       "  </tbody>\n",
       "</table>\n",
       "</div>"
      ],
      "text/plain": [
       "           INDEX_NR  INCIDENT_MONTH  INCIDENT_YEAR      LATITUDE  \\\n",
       "count  2.888100e+05   288810.000000  288810.000000  2.533090e+05   \n",
       "mean   8.736693e+05        7.175974    2011.697798  2.012754e+02   \n",
       "std    2.526448e+05        2.765082       8.432311  8.177522e+04   \n",
       "min    6.082420e+05        1.000000    1990.000000 -3.767333e+01   \n",
       "25%    6.893202e+05        5.000000    2006.000000  3.298764e+01   \n",
       "50%    7.646935e+05        7.000000    2014.000000  3.880581e+01   \n",
       "75%    1.064714e+06        9.000000    2019.000000  4.085010e+01   \n",
       "max    1.472259e+06       12.000000    2023.000000  4.115443e+07   \n",
       "\n",
       "           LONGITUDE            EMA            EMO        AC_MASS  \\\n",
       "count  253308.000000  192151.000000  186756.000000  206490.000000   \n",
       "mean      -90.880247      19.755812       8.522377       3.538312   \n",
       "std       327.243918      10.724278      12.866405       0.867312   \n",
       "min      -177.381000       0.000000       0.000000       1.000000   \n",
       "25%       -98.469780      10.000000       1.000000       3.000000   \n",
       "50%       -87.904460      22.000000       4.000000       4.000000   \n",
       "75%       -80.417940      31.000000      10.000000       4.000000   \n",
       "max    164140.000000      92.000000    2301.000000       5.000000   \n",
       "\n",
       "            NUM_ENGS      ENG_1_POS      ENG_2_POS     ENG_3_POS    ENG_4_POS  \\\n",
       "count  206259.000000  205481.000000  191612.000000  13080.000000  3290.000000   \n",
       "mean        2.013929       2.814956       2.667536      2.900306     2.043161   \n",
       "std         0.420133       2.113806       1.981032      1.950649     1.435114   \n",
       "min         1.000000       1.000000       1.000000      1.000000     1.000000   \n",
       "25%         2.000000       1.000000       1.000000      1.000000     1.000000   \n",
       "50%         2.000000       1.000000       1.000000      1.000000     1.000000   \n",
       "75%         2.000000       5.000000       5.000000      5.000000     4.000000   \n",
       "max         4.000000       7.000000       7.000000      6.000000     5.000000   \n",
       "\n",
       "              HEIGHT         SPEED       DISTANCE           AOS  \\\n",
       "count  148807.000000  94237.000000  188234.000000  14196.000000   \n",
       "mean      865.960358    142.585057       0.814466     91.454416   \n",
       "std      1843.098801     46.650050       3.547950    661.074472   \n",
       "min         0.000000      0.000000       0.000000      0.000000   \n",
       "25%         0.000000    120.000000       0.000000      1.000000   \n",
       "50%        50.000000    140.000000       0.000000      3.000000   \n",
       "75%       900.000000    160.000000       0.000000     24.000000   \n",
       "max     31300.000000   1250.000000      99.000000  62848.000000   \n",
       "\n",
       "       BIRD_BAND_NUMBER  NR_INJURIES  NR_FATALITIES  \n",
       "count      3.900000e+02   276.000000      24.000000  \n",
       "mean       8.811022e+07     1.293478       2.041667  \n",
       "std        9.110186e+07     0.756134       1.654484  \n",
       "min        0.000000e+00     1.000000       1.000000  \n",
       "25%        0.000000e+00     1.000000       1.000000  \n",
       "50%        7.897730e+07     1.000000       1.500000  \n",
       "75%        1.893343e+08     1.000000       2.000000  \n",
       "max        2.821218e+08     7.000000       8.000000  "
      ]
     },
     "execution_count": 5,
     "metadata": {},
     "output_type": "execute_result"
    }
   ],
   "source": [
    "df.describe()"
   ]
  },
  {
   "cell_type": "code",
   "execution_count": 6,
   "id": "b3b622de",
   "metadata": {
    "scrolled": true
   },
   "outputs": [
    {
     "data": {
      "text/plain": [
       "INDEX_NR               0\n",
       "INCIDENT_DATE          0\n",
       "INCIDENT_MONTH         0\n",
       "INCIDENT_YEAR          0\n",
       "TIME              125177\n",
       "                   ...  \n",
       "REPORTED_TITLE         0\n",
       "SOURCE                 0\n",
       "PERSON             21134\n",
       "LUPDATE                0\n",
       "TRANSFER               0\n",
       "Length: 100, dtype: int64"
      ]
     },
     "execution_count": 6,
     "metadata": {},
     "output_type": "execute_result"
    }
   ],
   "source": [
    "df.isnull().sum()"
   ]
  },
  {
   "cell_type": "code",
   "execution_count": 7,
   "id": "2695a2e4",
   "metadata": {},
   "outputs": [],
   "source": [
    "# Dropping duplicate data\n",
    "df.drop_duplicates(inplace=True)"
   ]
  },
  {
   "cell_type": "code",
   "execution_count": 8,
   "id": "81c6e534",
   "metadata": {},
   "outputs": [
    {
     "data": {
      "text/plain": [
       "(288810, 100)"
      ]
     },
     "execution_count": 8,
     "metadata": {},
     "output_type": "execute_result"
    }
   ],
   "source": [
    "df.shape"
   ]
  },
  {
   "cell_type": "code",
   "execution_count": 9,
   "id": "e36316ac",
   "metadata": {},
   "outputs": [],
   "source": [
    "# Incidents by year\n",
    "groupedYr_df = df.groupby('INCIDENT_YEAR').size().reset_index(name='Count')"
   ]
  },
  {
   "cell_type": "code",
   "execution_count": 10,
   "id": "cdafdf7b",
   "metadata": {},
   "outputs": [
    {
     "data": {
      "text/html": [
       "<div>\n",
       "<style scoped>\n",
       "    .dataframe tbody tr th:only-of-type {\n",
       "        vertical-align: middle;\n",
       "    }\n",
       "\n",
       "    .dataframe tbody tr th {\n",
       "        vertical-align: top;\n",
       "    }\n",
       "\n",
       "    .dataframe thead th {\n",
       "        text-align: right;\n",
       "    }\n",
       "</style>\n",
       "<table border=\"1\" class=\"dataframe\">\n",
       "  <thead>\n",
       "    <tr style=\"text-align: right;\">\n",
       "      <th></th>\n",
       "      <th>INCIDENT_YEAR</th>\n",
       "      <th>Count</th>\n",
       "    </tr>\n",
       "  </thead>\n",
       "  <tbody>\n",
       "    <tr>\n",
       "      <th>0</th>\n",
       "      <td>1990</td>\n",
       "      <td>2120</td>\n",
       "    </tr>\n",
       "    <tr>\n",
       "      <th>1</th>\n",
       "      <td>1991</td>\n",
       "      <td>2516</td>\n",
       "    </tr>\n",
       "    <tr>\n",
       "      <th>2</th>\n",
       "      <td>1992</td>\n",
       "      <td>2651</td>\n",
       "    </tr>\n",
       "    <tr>\n",
       "      <th>3</th>\n",
       "      <td>1993</td>\n",
       "      <td>2624</td>\n",
       "    </tr>\n",
       "    <tr>\n",
       "      <th>4</th>\n",
       "      <td>1994</td>\n",
       "      <td>2708</td>\n",
       "    </tr>\n",
       "    <tr>\n",
       "      <th>5</th>\n",
       "      <td>1995</td>\n",
       "      <td>2825</td>\n",
       "    </tr>\n",
       "    <tr>\n",
       "      <th>6</th>\n",
       "      <td>1996</td>\n",
       "      <td>3031</td>\n",
       "    </tr>\n",
       "    <tr>\n",
       "      <th>7</th>\n",
       "      <td>1997</td>\n",
       "      <td>3559</td>\n",
       "    </tr>\n",
       "    <tr>\n",
       "      <th>8</th>\n",
       "      <td>1998</td>\n",
       "      <td>3809</td>\n",
       "    </tr>\n",
       "    <tr>\n",
       "      <th>9</th>\n",
       "      <td>1999</td>\n",
       "      <td>5120</td>\n",
       "    </tr>\n",
       "    <tr>\n",
       "      <th>10</th>\n",
       "      <td>2000</td>\n",
       "      <td>6024</td>\n",
       "    </tr>\n",
       "    <tr>\n",
       "      <th>11</th>\n",
       "      <td>2001</td>\n",
       "      <td>5825</td>\n",
       "    </tr>\n",
       "    <tr>\n",
       "      <th>12</th>\n",
       "      <td>2002</td>\n",
       "      <td>6222</td>\n",
       "    </tr>\n",
       "    <tr>\n",
       "      <th>13</th>\n",
       "      <td>2003</td>\n",
       "      <td>5992</td>\n",
       "    </tr>\n",
       "    <tr>\n",
       "      <th>14</th>\n",
       "      <td>2004</td>\n",
       "      <td>6606</td>\n",
       "    </tr>\n",
       "    <tr>\n",
       "      <th>15</th>\n",
       "      <td>2005</td>\n",
       "      <td>7270</td>\n",
       "    </tr>\n",
       "    <tr>\n",
       "      <th>16</th>\n",
       "      <td>2006</td>\n",
       "      <td>7295</td>\n",
       "    </tr>\n",
       "    <tr>\n",
       "      <th>17</th>\n",
       "      <td>2007</td>\n",
       "      <td>7751</td>\n",
       "    </tr>\n",
       "    <tr>\n",
       "      <th>18</th>\n",
       "      <td>2008</td>\n",
       "      <td>7638</td>\n",
       "    </tr>\n",
       "    <tr>\n",
       "      <th>19</th>\n",
       "      <td>2009</td>\n",
       "      <td>9509</td>\n",
       "    </tr>\n",
       "    <tr>\n",
       "      <th>20</th>\n",
       "      <td>2010</td>\n",
       "      <td>9898</td>\n",
       "    </tr>\n",
       "    <tr>\n",
       "      <th>21</th>\n",
       "      <td>2011</td>\n",
       "      <td>10110</td>\n",
       "    </tr>\n",
       "    <tr>\n",
       "      <th>22</th>\n",
       "      <td>2012</td>\n",
       "      <td>10932</td>\n",
       "    </tr>\n",
       "    <tr>\n",
       "      <th>23</th>\n",
       "      <td>2013</td>\n",
       "      <td>11410</td>\n",
       "    </tr>\n",
       "    <tr>\n",
       "      <th>24</th>\n",
       "      <td>2014</td>\n",
       "      <td>13692</td>\n",
       "    </tr>\n",
       "    <tr>\n",
       "      <th>25</th>\n",
       "      <td>2015</td>\n",
       "      <td>13772</td>\n",
       "    </tr>\n",
       "    <tr>\n",
       "      <th>26</th>\n",
       "      <td>2016</td>\n",
       "      <td>13323</td>\n",
       "    </tr>\n",
       "    <tr>\n",
       "      <th>27</th>\n",
       "      <td>2017</td>\n",
       "      <td>14776</td>\n",
       "    </tr>\n",
       "    <tr>\n",
       "      <th>28</th>\n",
       "      <td>2018</td>\n",
       "      <td>16202</td>\n",
       "    </tr>\n",
       "    <tr>\n",
       "      <th>29</th>\n",
       "      <td>2019</td>\n",
       "      <td>17341</td>\n",
       "    </tr>\n",
       "    <tr>\n",
       "      <th>30</th>\n",
       "      <td>2020</td>\n",
       "      <td>11620</td>\n",
       "    </tr>\n",
       "    <tr>\n",
       "      <th>31</th>\n",
       "      <td>2021</td>\n",
       "      <td>15638</td>\n",
       "    </tr>\n",
       "    <tr>\n",
       "      <th>32</th>\n",
       "      <td>2022</td>\n",
       "      <td>17226</td>\n",
       "    </tr>\n",
       "    <tr>\n",
       "      <th>33</th>\n",
       "      <td>2023</td>\n",
       "      <td>11775</td>\n",
       "    </tr>\n",
       "  </tbody>\n",
       "</table>\n",
       "</div>"
      ],
      "text/plain": [
       "    INCIDENT_YEAR  Count\n",
       "0            1990   2120\n",
       "1            1991   2516\n",
       "2            1992   2651\n",
       "3            1993   2624\n",
       "4            1994   2708\n",
       "5            1995   2825\n",
       "6            1996   3031\n",
       "7            1997   3559\n",
       "8            1998   3809\n",
       "9            1999   5120\n",
       "10           2000   6024\n",
       "11           2001   5825\n",
       "12           2002   6222\n",
       "13           2003   5992\n",
       "14           2004   6606\n",
       "15           2005   7270\n",
       "16           2006   7295\n",
       "17           2007   7751\n",
       "18           2008   7638\n",
       "19           2009   9509\n",
       "20           2010   9898\n",
       "21           2011  10110\n",
       "22           2012  10932\n",
       "23           2013  11410\n",
       "24           2014  13692\n",
       "25           2015  13772\n",
       "26           2016  13323\n",
       "27           2017  14776\n",
       "28           2018  16202\n",
       "29           2019  17341\n",
       "30           2020  11620\n",
       "31           2021  15638\n",
       "32           2022  17226\n",
       "33           2023  11775"
      ]
     },
     "execution_count": 10,
     "metadata": {},
     "output_type": "execute_result"
    }
   ],
   "source": [
    "groupedYr_df"
   ]
  },
  {
   "cell_type": "markdown",
   "id": "17d40215",
   "metadata": {},
   "source": [
    "<div style=\"padding:30px; \n",
    "            color:white;\n",
    "            margin:10px;\n",
    "            font-size:180%;\n",
    "            text-align:center;\n",
    "            display:fill;\n",
    "            border-radius:20px;\n",
    "            border-width: 5px;\n",
    "            border-style: solid;\n",
    "            border-color:white;\n",
    "            background-color:black;\n",
    "            font-family:Luminari;\n",
    "            overflow:hidden;\n",
    "            font-weight:500\">Aircarft Wildlife Strikes by Year.</div>"
   ]
  },
  {
   "cell_type": "code",
   "execution_count": 11,
   "id": "08a2698a",
   "metadata": {
    "scrolled": false
   },
   "outputs": [
    {
     "name": "stderr",
     "output_type": "stream",
     "text": [
      "C:\\Users\\KPMal\\anaconda3\\envs\\Py3-9\\lib\\site-packages\\seaborn\\_oldcore.py:1498: FutureWarning: is_categorical_dtype is deprecated and will be removed in a future version. Use isinstance(dtype, CategoricalDtype) instead\n",
      "  if pd.api.types.is_categorical_dtype(vector):\n",
      "C:\\Users\\KPMal\\anaconda3\\envs\\Py3-9\\lib\\site-packages\\seaborn\\_oldcore.py:1498: FutureWarning: is_categorical_dtype is deprecated and will be removed in a future version. Use isinstance(dtype, CategoricalDtype) instead\n",
      "  if pd.api.types.is_categorical_dtype(vector):\n",
      "C:\\Users\\KPMal\\anaconda3\\envs\\Py3-9\\lib\\site-packages\\seaborn\\_oldcore.py:1498: FutureWarning: is_categorical_dtype is deprecated and will be removed in a future version. Use isinstance(dtype, CategoricalDtype) instead\n",
      "  if pd.api.types.is_categorical_dtype(vector):\n"
     ]
    },
    {
     "data": {
      "text/plain": [
       "<Axes: xlabel='INCIDENT_YEAR', ylabel='Count'>"
      ]
     },
     "execution_count": 11,
     "metadata": {},
     "output_type": "execute_result"
    },
    {
     "data": {
      "image/png": "[encoded data removed]",
      "text/plain": [
       "<Figure size 2000x1500 with 1 Axes>"
      ]
     },
     "metadata": {},
     "output_type": "display_data"
    }
   ],
   "source": [
    "sns.set(rc={'figure.figsize':(20,15)})\n",
    "#sns.set_style(\"ticks\")\n",
    "sns.set(rc={'axes.facecolor':'#000000', 'figure.facecolor':'#EBEBEB'})\n",
    "sns.barplot(groupedYr_df, x=\"INCIDENT_YEAR\", y=\"Count\")\n",
    "#plt.show(bar_plot)\n",
    "\n"
   ]
  },
  {
   "cell_type": "code",
   "execution_count": 12,
   "id": "edc3cebd",
   "metadata": {},
   "outputs": [
    {
     "name": "stderr",
     "output_type": "stream",
     "text": [
      "C:\\Users\\KPMal\\anaconda3\\envs\\Py3-9\\lib\\site-packages\\seaborn\\_oldcore.py:1498: FutureWarning: is_categorical_dtype is deprecated and will be removed in a future version. Use isinstance(dtype, CategoricalDtype) instead\n",
      "  if pd.api.types.is_categorical_dtype(vector):\n",
      "C:\\Users\\KPMal\\anaconda3\\envs\\Py3-9\\lib\\site-packages\\seaborn\\_oldcore.py:1498: FutureWarning: is_categorical_dtype is deprecated and will be removed in a future version. Use isinstance(dtype, CategoricalDtype) instead\n",
      "  if pd.api.types.is_categorical_dtype(vector):\n",
      "C:\\Users\\KPMal\\anaconda3\\envs\\Py3-9\\lib\\site-packages\\seaborn\\_oldcore.py:1119: FutureWarning: use_inf_as_na option is deprecated and will be removed in a future version. Convert inf values to NaN before operating instead.\n",
      "  with pd.option_context('mode.use_inf_as_na', True):\n",
      "C:\\Users\\KPMal\\anaconda3\\envs\\Py3-9\\lib\\site-packages\\seaborn\\_oldcore.py:1119: FutureWarning: use_inf_as_na option is deprecated and will be removed in a future version. Convert inf values to NaN before operating instead.\n",
      "  with pd.option_context('mode.use_inf_as_na', True):\n"
     ]
    },
    {
     "data": {
      "text/plain": [
       "<Axes: xlabel='INCIDENT_YEAR', ylabel='Count'>"
      ]
     },
     "execution_count": 12,
     "metadata": {},
     "output_type": "execute_result"
    },
    {
     "data": {
      "image/png": "[encoded data removed]",
      "text/plain": [
       "<Figure size 2000x1500 with 1 Axes>"
      ]
     },
     "metadata": {},
     "output_type": "display_data"
    }
   ],
   "source": [
    "sns.set(rc={'figure.figsize':(20,15)})\n",
    "#sns.set_style(\"ticks\")\n",
    "sns.set(rc={'axes.facecolor':'#000000', 'figure.facecolor':'#EBEBEB'})\n",
    "sns.lineplot(groupedYr_df, x=\"INCIDENT_YEAR\", y=\"Count\")\n",
    "#plt.show(bar_plot)"
   ]
  },
  {
   "cell_type": "markdown",
   "id": "8f0d1eca",
   "metadata": {},
   "source": [
    "<div style=\"padding:30px; \n",
    "            color:white;\n",
    "            margin:10px;\n",
    "            font-size:180%;\n",
    "            text-align:center;\n",
    "            display:fill;\n",
    "            border-radius:20px;\n",
    "            border-width: 5px;\n",
    "            border-style: solid;\n",
    "            border-color:white;\n",
    "            background-color:black;\n",
    "            font-family:Luminari;\n",
    "            overflow:hidden;\n",
    "            font-weight:500\">Aircarft Wildlife Strike Fatalities Reported in the U.S. by Month</div>"
   ]
  },
  {
   "cell_type": "code",
   "execution_count": 13,
   "id": "ccafe95d",
   "metadata": {},
   "outputs": [],
   "source": [
    "df['INCIDENT_MONTH'] = df['INCIDENT_MONTH'].astype(str)"
   ]
  },
  {
   "cell_type": "code",
   "execution_count": 14,
   "id": "e02fa7b9",
   "metadata": {},
   "outputs": [],
   "source": [
    "df['INCIDENT_MONTH'] = df['INCIDENT_MONTH'].replace(['1', '2', '3', '4', '5', '6', '7', '8', '9', '10', '11', '12'], ['January', 'February', 'March', 'April', 'May', 'June', 'July', 'August', 'September', 'October', 'November', 'December'])\n"
   ]
  },
  {
   "cell_type": "code",
   "execution_count": 15,
   "id": "aef85eb2",
   "metadata": {},
   "outputs": [],
   "source": [
    "FatMo = df.groupby(['INCIDENT_MONTH'])['NR_FATALITIES'].sum()"
   ]
  },
  {
   "cell_type": "code",
   "execution_count": 16,
   "id": "5b1382ea",
   "metadata": {
    "scrolled": true
   },
   "outputs": [],
   "source": [
    "#FatMo.columns"
   ]
  },
  {
   "cell_type": "code",
   "execution_count": 17,
   "id": "17b666f3",
   "metadata": {},
   "outputs": [
    {
     "name": "stderr",
     "output_type": "stream",
     "text": [
      "C:\\Users\\KPMal\\anaconda3\\envs\\Py3-9\\lib\\site-packages\\seaborn\\_oldcore.py:1498: FutureWarning: is_categorical_dtype is deprecated and will be removed in a future version. Use isinstance(dtype, CategoricalDtype) instead\n",
      "  if pd.api.types.is_categorical_dtype(vector):\n",
      "C:\\Users\\KPMal\\anaconda3\\envs\\Py3-9\\lib\\site-packages\\seaborn\\_oldcore.py:1498: FutureWarning: is_categorical_dtype is deprecated and will be removed in a future version. Use isinstance(dtype, CategoricalDtype) instead\n",
      "  if pd.api.types.is_categorical_dtype(vector):\n",
      "C:\\Users\\KPMal\\anaconda3\\envs\\Py3-9\\lib\\site-packages\\seaborn\\_oldcore.py:1498: FutureWarning: is_categorical_dtype is deprecated and will be removed in a future version. Use isinstance(dtype, CategoricalDtype) instead\n",
      "  if pd.api.types.is_categorical_dtype(vector):\n",
      "C:\\Users\\KPMal\\anaconda3\\envs\\Py3-9\\lib\\site-packages\\seaborn\\algorithms.py:98: RuntimeWarning: Mean of empty slice\n",
      "  boot_dist.append(f(*sample, **func_kwargs))\n",
      "C:\\Users\\KPMal\\anaconda3\\envs\\Py3-9\\lib\\site-packages\\numpy\\lib\\nanfunctions.py:1384: RuntimeWarning: All-NaN slice encountered\n",
      "  return _nanquantile_unchecked(\n"
     ]
    },
    {
     "data": {
      "text/plain": [
       "[Text(0.5, 1.0, 'Number of Reported Fatalities per month')]"
      ]
     },
     "execution_count": 17,
     "metadata": {},
     "output_type": "execute_result"
    },
    {
     "data": {
      "image/png": "[encoded data removed]",
      "text/plain": [
       "<Figure size 2000x1500 with 1 Axes>"
      ]
     },
     "metadata": {},
     "output_type": "display_data"
    }
   ],
   "source": [
    "sns.barplot(data=df, x='INCIDENT_MONTH', y='NR_FATALITIES').set(title='Number of Reported Fatalities per month')"
   ]
  },
  {
   "cell_type": "code",
   "execution_count": null,
   "id": "18014a86",
   "metadata": {},
   "outputs": [],
   "source": []
  },
  {
   "cell_type": "code",
   "execution_count": 18,
   "id": "4586c988",
   "metadata": {},
   "outputs": [
    {
     "data": {
      "text/plain": [
       "array([nan,  1.,  2.,  8.,  3.,  4.,  5.])"
      ]
     },
     "execution_count": 18,
     "metadata": {},
     "output_type": "execute_result"
    }
   ],
   "source": [
    "df['NR_FATALITIES'].unique()"
   ]
  },
  {
   "cell_type": "code",
   "execution_count": 19,
   "id": "c7ed2c00",
   "metadata": {},
   "outputs": [],
   "source": [
    "FatST = df.groupby(['STATE'])['NR_FATALITIES'].sum()"
   ]
  },
  {
   "cell_type": "code",
   "execution_count": 20,
   "id": "a7a389c7",
   "metadata": {},
   "outputs": [
    {
     "data": {
      "text/plain": [
       "count    67.000000\n",
       "mean      0.179104\n",
       "std       0.716163\n",
       "min       0.000000\n",
       "25%       0.000000\n",
       "50%       0.000000\n",
       "75%       0.000000\n",
       "max       5.000000\n",
       "Name: NR_FATALITIES, dtype: float64"
      ]
     },
     "execution_count": 20,
     "metadata": {},
     "output_type": "execute_result"
    }
   ],
   "source": [
    "FatST.describe()"
   ]
  },
  {
   "cell_type": "code",
   "execution_count": 21,
   "id": "1ed97812",
   "metadata": {},
   "outputs": [
    {
     "data": {
      "text/plain": [
       "STATE\n",
       "AB    0.0\n",
       "AK    0.0\n",
       "AL    0.0\n",
       "AR    0.0\n",
       "AS    0.0\n",
       "     ... \n",
       "VT    0.0\n",
       "WA    2.0\n",
       "WI    0.0\n",
       "WV    1.0\n",
       "WY    0.0\n",
       "Name: NR_FATALITIES, Length: 67, dtype: float64"
      ]
     },
     "execution_count": 21,
     "metadata": {},
     "output_type": "execute_result"
    }
   ],
   "source": [
    "FatST"
   ]
  },
  {
   "cell_type": "code",
   "execution_count": 22,
   "id": "9647a23b",
   "metadata": {},
   "outputs": [],
   "source": [
    "FatST = FatST.reset_index()"
   ]
  },
  {
   "cell_type": "code",
   "execution_count": 23,
   "id": "0251b485",
   "metadata": {
    "scrolled": true
   },
   "outputs": [
    {
     "data": {
      "text/html": [
       "<div>\n",
       "<style scoped>\n",
       "    .dataframe tbody tr th:only-of-type {\n",
       "        vertical-align: middle;\n",
       "    }\n",
       "\n",
       "    .dataframe tbody tr th {\n",
       "        vertical-align: top;\n",
       "    }\n",
       "\n",
       "    .dataframe thead th {\n",
       "        text-align: right;\n",
       "    }\n",
       "</style>\n",
       "<table border=\"1\" class=\"dataframe\">\n",
       "  <thead>\n",
       "    <tr style=\"text-align: right;\">\n",
       "      <th></th>\n",
       "      <th>STATE</th>\n",
       "      <th>NR_FATALITIES</th>\n",
       "    </tr>\n",
       "  </thead>\n",
       "  <tbody>\n",
       "    <tr>\n",
       "      <th>0</th>\n",
       "      <td>AB</td>\n",
       "      <td>0.0</td>\n",
       "    </tr>\n",
       "    <tr>\n",
       "      <th>1</th>\n",
       "      <td>AK</td>\n",
       "      <td>0.0</td>\n",
       "    </tr>\n",
       "    <tr>\n",
       "      <th>2</th>\n",
       "      <td>AL</td>\n",
       "      <td>0.0</td>\n",
       "    </tr>\n",
       "    <tr>\n",
       "      <th>3</th>\n",
       "      <td>AR</td>\n",
       "      <td>0.0</td>\n",
       "    </tr>\n",
       "    <tr>\n",
       "      <th>4</th>\n",
       "      <td>AS</td>\n",
       "      <td>0.0</td>\n",
       "    </tr>\n",
       "    <tr>\n",
       "      <th>...</th>\n",
       "      <td>...</td>\n",
       "      <td>...</td>\n",
       "    </tr>\n",
       "    <tr>\n",
       "      <th>62</th>\n",
       "      <td>VT</td>\n",
       "      <td>0.0</td>\n",
       "    </tr>\n",
       "    <tr>\n",
       "      <th>63</th>\n",
       "      <td>WA</td>\n",
       "      <td>2.0</td>\n",
       "    </tr>\n",
       "    <tr>\n",
       "      <th>64</th>\n",
       "      <td>WI</td>\n",
       "      <td>0.0</td>\n",
       "    </tr>\n",
       "    <tr>\n",
       "      <th>65</th>\n",
       "      <td>WV</td>\n",
       "      <td>1.0</td>\n",
       "    </tr>\n",
       "    <tr>\n",
       "      <th>66</th>\n",
       "      <td>WY</td>\n",
       "      <td>0.0</td>\n",
       "    </tr>\n",
       "  </tbody>\n",
       "</table>\n",
       "<p>67 rows × 2 columns</p>\n",
       "</div>"
      ],
      "text/plain": [
       "   STATE  NR_FATALITIES\n",
       "0     AB            0.0\n",
       "1     AK            0.0\n",
       "2     AL            0.0\n",
       "3     AR            0.0\n",
       "4     AS            0.0\n",
       "..   ...            ...\n",
       "62    VT            0.0\n",
       "63    WA            2.0\n",
       "64    WI            0.0\n",
       "65    WV            1.0\n",
       "66    WY            0.0\n",
       "\n",
       "[67 rows x 2 columns]"
      ]
     },
     "execution_count": 23,
     "metadata": {},
     "output_type": "execute_result"
    }
   ],
   "source": [
    "FatST"
   ]
  },
  {
   "cell_type": "code",
   "execution_count": 24,
   "id": "f2fcb8c7",
   "metadata": {},
   "outputs": [],
   "source": [
    "deadlyST = FatST.nlargest(3, ['NR_FATALITIES'])"
   ]
  },
  {
   "cell_type": "code",
   "execution_count": 25,
   "id": "81734bce",
   "metadata": {},
   "outputs": [
    {
     "data": {
      "text/html": [
       "<div>\n",
       "<style scoped>\n",
       "    .dataframe tbody tr th:only-of-type {\n",
       "        vertical-align: middle;\n",
       "    }\n",
       "\n",
       "    .dataframe tbody tr th {\n",
       "        vertical-align: top;\n",
       "    }\n",
       "\n",
       "    .dataframe thead th {\n",
       "        text-align: right;\n",
       "    }\n",
       "</style>\n",
       "<table border=\"1\" class=\"dataframe\">\n",
       "  <thead>\n",
       "    <tr style=\"text-align: right;\">\n",
       "      <th></th>\n",
       "      <th>STATE</th>\n",
       "      <th>NR_FATALITIES</th>\n",
       "    </tr>\n",
       "  </thead>\n",
       "  <tbody>\n",
       "    <tr>\n",
       "      <th>46</th>\n",
       "      <td>OK</td>\n",
       "      <td>5.0</td>\n",
       "    </tr>\n",
       "    <tr>\n",
       "      <th>59</th>\n",
       "      <td>UT</td>\n",
       "      <td>2.0</td>\n",
       "    </tr>\n",
       "    <tr>\n",
       "      <th>63</th>\n",
       "      <td>WA</td>\n",
       "      <td>2.0</td>\n",
       "    </tr>\n",
       "  </tbody>\n",
       "</table>\n",
       "</div>"
      ],
      "text/plain": [
       "   STATE  NR_FATALITIES\n",
       "46    OK            5.0\n",
       "59    UT            2.0\n",
       "63    WA            2.0"
      ]
     },
     "execution_count": 25,
     "metadata": {},
     "output_type": "execute_result"
    }
   ],
   "source": [
    "deadlyST"
   ]
  },
  {
   "cell_type": "markdown",
   "id": "611ec86c",
   "metadata": {},
   "source": [
    "<div style=\"padding:30px; \n",
    "            color:white;\n",
    "            margin:10px;\n",
    "            font-size:180%;\n",
    "            text-align:center;\n",
    "            display:fill;\n",
    "            border-radius:20px;\n",
    "            border-width: 5px;\n",
    "            border-style: solid;\n",
    "            border-color:white;\n",
    "            background-color:black;\n",
    "            font-family:Luminari;\n",
    "            overflow:hidden;\n",
    "            font-weight:500\">States with the most fatalities reported</div>"
   ]
  },
  {
   "cell_type": "code",
   "execution_count": 26,
   "id": "7052cbeb",
   "metadata": {},
   "outputs": [
    {
     "name": "stderr",
     "output_type": "stream",
     "text": [
      "C:\\Users\\KPMal\\anaconda3\\envs\\Py3-9\\lib\\site-packages\\seaborn\\_oldcore.py:1498: FutureWarning: is_categorical_dtype is deprecated and will be removed in a future version. Use isinstance(dtype, CategoricalDtype) instead\n",
      "  if pd.api.types.is_categorical_dtype(vector):\n",
      "C:\\Users\\KPMal\\anaconda3\\envs\\Py3-9\\lib\\site-packages\\seaborn\\_oldcore.py:1498: FutureWarning: is_categorical_dtype is deprecated and will be removed in a future version. Use isinstance(dtype, CategoricalDtype) instead\n",
      "  if pd.api.types.is_categorical_dtype(vector):\n",
      "C:\\Users\\KPMal\\anaconda3\\envs\\Py3-9\\lib\\site-packages\\seaborn\\_oldcore.py:1498: FutureWarning: is_categorical_dtype is deprecated and will be removed in a future version. Use isinstance(dtype, CategoricalDtype) instead\n",
      "  if pd.api.types.is_categorical_dtype(vector):\n"
     ]
    },
    {
     "data": {
      "text/plain": [
       "[Text(0.5, 1.0, 'States with the most fatalities reported')]"
      ]
     },
     "execution_count": 26,
     "metadata": {},
     "output_type": "execute_result"
    },
    {
     "data": {
      "image/png": "[encoded data removed]",
      "text/plain": [
       "<Figure size 2000x1500 with 1 Axes>"
      ]
     },
     "metadata": {},
     "output_type": "display_data"
    }
   ],
   "source": [
    "sns.barplot(data=deadlyST, x='STATE', y='NR_FATALITIES').set(title='States with the most fatalities reported')"
   ]
  },
  {
   "cell_type": "code",
   "execution_count": 27,
   "id": "16f9ba67",
   "metadata": {},
   "outputs": [],
   "source": [
    "injST = df.groupby(['STATE'])['NR_INJURIES'].sum()"
   ]
  },
  {
   "cell_type": "code",
   "execution_count": 28,
   "id": "80ccd2b3",
   "metadata": {},
   "outputs": [
    {
     "data": {
      "text/plain": [
       "count    67.000000\n",
       "mean      2.865672\n",
       "std       4.100612\n",
       "min       0.000000\n",
       "25%       0.000000\n",
       "50%       2.000000\n",
       "75%       3.500000\n",
       "max      25.000000\n",
       "Name: NR_INJURIES, dtype: float64"
      ]
     },
     "execution_count": 28,
     "metadata": {},
     "output_type": "execute_result"
    }
   ],
   "source": [
    "injST.describe()"
   ]
  },
  {
   "cell_type": "code",
   "execution_count": 29,
   "id": "47f524e8",
   "metadata": {
    "scrolled": true
   },
   "outputs": [
    {
     "data": {
      "text/plain": [
       "STATE\n",
       "AB    0.0\n",
       "AK    0.0\n",
       "AL    2.0\n",
       "AR    1.0\n",
       "AS    0.0\n",
       "     ... \n",
       "VT    0.0\n",
       "WA    2.0\n",
       "WI    2.0\n",
       "WV    2.0\n",
       "WY    2.0\n",
       "Name: NR_INJURIES, Length: 67, dtype: float64"
      ]
     },
     "execution_count": 29,
     "metadata": {},
     "output_type": "execute_result"
    }
   ],
   "source": [
    "injST"
   ]
  },
  {
   "cell_type": "code",
   "execution_count": 30,
   "id": "7a2292c0",
   "metadata": {},
   "outputs": [],
   "source": [
    "injST = injST.reset_index()"
   ]
  },
  {
   "cell_type": "code",
   "execution_count": 31,
   "id": "db498fa2",
   "metadata": {},
   "outputs": [],
   "source": [
    "injuryST = injST.nlargest(10, ['NR_INJURIES'])"
   ]
  },
  {
   "cell_type": "code",
   "execution_count": 32,
   "id": "0edac4c5",
   "metadata": {},
   "outputs": [
    {
     "data": {
      "text/html": [
       "<div>\n",
       "<style scoped>\n",
       "    .dataframe tbody tr th:only-of-type {\n",
       "        vertical-align: middle;\n",
       "    }\n",
       "\n",
       "    .dataframe tbody tr th {\n",
       "        vertical-align: top;\n",
       "    }\n",
       "\n",
       "    .dataframe thead th {\n",
       "        text-align: right;\n",
       "    }\n",
       "</style>\n",
       "<table border=\"1\" class=\"dataframe\">\n",
       "  <thead>\n",
       "    <tr style=\"text-align: right;\">\n",
       "      <th></th>\n",
       "      <th>STATE</th>\n",
       "      <th>NR_INJURIES</th>\n",
       "    </tr>\n",
       "  </thead>\n",
       "  <tbody>\n",
       "    <tr>\n",
       "      <th>12</th>\n",
       "      <td>FL</td>\n",
       "      <td>25.0</td>\n",
       "    </tr>\n",
       "    <tr>\n",
       "      <th>57</th>\n",
       "      <td>TX</td>\n",
       "      <td>13.0</td>\n",
       "    </tr>\n",
       "    <tr>\n",
       "      <th>7</th>\n",
       "      <td>CA</td>\n",
       "      <td>12.0</td>\n",
       "    </tr>\n",
       "    <tr>\n",
       "      <th>37</th>\n",
       "      <td>NE</td>\n",
       "      <td>11.0</td>\n",
       "    </tr>\n",
       "    <tr>\n",
       "      <th>13</th>\n",
       "      <td>FN</td>\n",
       "      <td>10.0</td>\n",
       "    </tr>\n",
       "    <tr>\n",
       "      <th>19</th>\n",
       "      <td>IL</td>\n",
       "      <td>7.0</td>\n",
       "    </tr>\n",
       "    <tr>\n",
       "      <th>26</th>\n",
       "      <td>MD</td>\n",
       "      <td>7.0</td>\n",
       "    </tr>\n",
       "    <tr>\n",
       "      <th>47</th>\n",
       "      <td>ON</td>\n",
       "      <td>7.0</td>\n",
       "    </tr>\n",
       "    <tr>\n",
       "      <th>14</th>\n",
       "      <td>GA</td>\n",
       "      <td>6.0</td>\n",
       "    </tr>\n",
       "    <tr>\n",
       "      <th>56</th>\n",
       "      <td>TN</td>\n",
       "      <td>6.0</td>\n",
       "    </tr>\n",
       "  </tbody>\n",
       "</table>\n",
       "</div>"
      ],
      "text/plain": [
       "   STATE  NR_INJURIES\n",
       "12    FL         25.0\n",
       "57    TX         13.0\n",
       "7     CA         12.0\n",
       "37    NE         11.0\n",
       "13    FN         10.0\n",
       "19    IL          7.0\n",
       "26    MD          7.0\n",
       "47    ON          7.0\n",
       "14    GA          6.0\n",
       "56    TN          6.0"
      ]
     },
     "execution_count": 32,
     "metadata": {},
     "output_type": "execute_result"
    }
   ],
   "source": [
    "injuryST"
   ]
  },
  {
   "cell_type": "markdown",
   "id": "6cf48a7c",
   "metadata": {},
   "source": [
    "<div style=\"padding:30px; \n",
    "            color:white;\n",
    "            margin:10px;\n",
    "            font-size:180%;\n",
    "            text-align:center;\n",
    "            display:fill;\n",
    "            border-radius:20px;\n",
    "            border-width: 5px;\n",
    "            border-style: solid;\n",
    "            border-color:white;\n",
    "            background-color:black;\n",
    "            font-family:Luminari;\n",
    "            overflow:hidden;\n",
    "            font-weight:500\">States with the most injuries reported</div>"
   ]
  },
  {
   "cell_type": "code",
   "execution_count": 33,
   "id": "345d9d6a",
   "metadata": {
    "scrolled": false
   },
   "outputs": [
    {
     "name": "stderr",
     "output_type": "stream",
     "text": [
      "C:\\Users\\KPMal\\anaconda3\\envs\\Py3-9\\lib\\site-packages\\seaborn\\_oldcore.py:1498: FutureWarning: is_categorical_dtype is deprecated and will be removed in a future version. Use isinstance(dtype, CategoricalDtype) instead\n",
      "  if pd.api.types.is_categorical_dtype(vector):\n",
      "C:\\Users\\KPMal\\anaconda3\\envs\\Py3-9\\lib\\site-packages\\seaborn\\_oldcore.py:1498: FutureWarning: is_categorical_dtype is deprecated and will be removed in a future version. Use isinstance(dtype, CategoricalDtype) instead\n",
      "  if pd.api.types.is_categorical_dtype(vector):\n",
      "C:\\Users\\KPMal\\anaconda3\\envs\\Py3-9\\lib\\site-packages\\seaborn\\_oldcore.py:1498: FutureWarning: is_categorical_dtype is deprecated and will be removed in a future version. Use isinstance(dtype, CategoricalDtype) instead\n",
      "  if pd.api.types.is_categorical_dtype(vector):\n"
     ]
    },
    {
     "data": {
      "text/plain": [
       "[Text(0.5, 1.0, 'States with the most fatalities reported')]"
      ]
     },
     "execution_count": 33,
     "metadata": {},
     "output_type": "execute_result"
    },
    {
     "data": {
      "image/png": "[encoded data removed]",
      "text/plain": [
       "<Figure size 2000x1500 with 1 Axes>"
      ]
     },
     "metadata": {},
     "output_type": "display_data"
    }
   ],
   "source": [
    "sns.barplot(data=injuryST, x='STATE', y='NR_INJURIES').set(title='States with the most fatalities reported')"
   ]
  },
  {
   "cell_type": "code",
   "execution_count": 34,
   "id": "1783552a",
   "metadata": {},
   "outputs": [
    {
     "data": {
      "text/plain": [
       "array([nan, 'Day', 'Dawn', 'Night', 'Dusk'], dtype=object)"
      ]
     },
     "execution_count": 34,
     "metadata": {},
     "output_type": "execute_result"
    }
   ],
   "source": [
    "df['TIME_OF_DAY'].unique()"
   ]
  },
  {
   "cell_type": "code",
   "execution_count": 35,
   "id": "034c1b0f",
   "metadata": {},
   "outputs": [
    {
     "data": {
      "text/plain": [
       "TIME_OF_DAY\n",
       "Day      102548\n",
       "Night     50446\n",
       "Dusk       7428\n",
       "Dawn       5972\n",
       "Name: count, dtype: int64"
      ]
     },
     "execution_count": 35,
     "metadata": {},
     "output_type": "execute_result"
    }
   ],
   "source": [
    "df['TIME_OF_DAY'].value_counts()"
   ]
  },
  {
   "cell_type": "code",
   "execution_count": 36,
   "id": "89c965cb",
   "metadata": {},
   "outputs": [
    {
     "data": {
      "text/plain": [
       "0          True\n",
       "1          True\n",
       "2          True\n",
       "3          True\n",
       "4          True\n",
       "          ...  \n",
       "288805     True\n",
       "288806     True\n",
       "288807    False\n",
       "288808    False\n",
       "288809     True\n",
       "Name: TIME_OF_DAY, Length: 288810, dtype: bool"
      ]
     },
     "execution_count": 36,
     "metadata": {},
     "output_type": "execute_result"
    }
   ],
   "source": [
    "df['TIME_OF_DAY'].isna()"
   ]
  },
  {
   "cell_type": "code",
   "execution_count": 37,
   "id": "424efb52",
   "metadata": {},
   "outputs": [
    {
     "data": {
      "text/plain": [
       "0          True\n",
       "1          True\n",
       "2          True\n",
       "3          True\n",
       "4          True\n",
       "          ...  \n",
       "288805     True\n",
       "288806     True\n",
       "288807    False\n",
       "288808    False\n",
       "288809     True\n",
       "Name: TIME_OF_DAY, Length: 288810, dtype: bool"
      ]
     },
     "execution_count": 37,
     "metadata": {},
     "output_type": "execute_result"
    }
   ],
   "source": [
    "df['TIME_OF_DAY'].isnull()"
   ]
  },
  {
   "cell_type": "markdown",
   "id": "f078a80c",
   "metadata": {},
   "source": [
    "<div style=\"padding:30px; \n",
    "            color:white;\n",
    "            margin:10px;\n",
    "            font-size:180%;\n",
    "            text-align:center;\n",
    "            display:fill;\n",
    "            border-radius:20px;\n",
    "            border-width: 5px;\n",
    "            border-style: solid;\n",
    "            border-color:white;\n",
    "            background-color:black;\n",
    "            font-family:Luminari;\n",
    "            overflow:hidden;\n",
    "            font-weight:500\">Injuries reported based on time of day</div>"
   ]
  },
  {
   "cell_type": "code",
   "execution_count": 38,
   "id": "f5f59af0",
   "metadata": {},
   "outputs": [
    {
     "name": "stderr",
     "output_type": "stream",
     "text": [
      "C:\\Users\\KPMal\\anaconda3\\envs\\Py3-9\\lib\\site-packages\\seaborn\\_oldcore.py:1498: FutureWarning: is_categorical_dtype is deprecated and will be removed in a future version. Use isinstance(dtype, CategoricalDtype) instead\n",
      "  if pd.api.types.is_categorical_dtype(vector):\n",
      "C:\\Users\\KPMal\\anaconda3\\envs\\Py3-9\\lib\\site-packages\\seaborn\\_oldcore.py:1498: FutureWarning: is_categorical_dtype is deprecated and will be removed in a future version. Use isinstance(dtype, CategoricalDtype) instead\n",
      "  if pd.api.types.is_categorical_dtype(vector):\n",
      "C:\\Users\\KPMal\\anaconda3\\envs\\Py3-9\\lib\\site-packages\\seaborn\\_oldcore.py:1498: FutureWarning: is_categorical_dtype is deprecated and will be removed in a future version. Use isinstance(dtype, CategoricalDtype) instead\n",
      "  if pd.api.types.is_categorical_dtype(vector):\n",
      "C:\\Users\\KPMal\\anaconda3\\envs\\Py3-9\\lib\\site-packages\\seaborn\\algorithms.py:98: RuntimeWarning: Mean of empty slice\n",
      "  boot_dist.append(f(*sample, **func_kwargs))\n"
     ]
    },
    {
     "data": {
      "text/plain": [
       "[Text(0.5, 1.0, 'Injuries reported based on time of day')]"
      ]
     },
     "execution_count": 38,
     "metadata": {},
     "output_type": "execute_result"
    },
    {
     "data": {
      "image/png": "[encoded data removed]",
      "text/plain": [
       "<Figure size 2000x1500 with 1 Axes>"
      ]
     },
     "metadata": {},
     "output_type": "display_data"
    }
   ],
   "source": [
    "sns.barplot(data=df, x='TIME_OF_DAY', y='NR_INJURIES').set(title='Injuries reported based on time of day')"
   ]
  },
  {
   "cell_type": "code",
   "execution_count": 39,
   "id": "7b67a38b",
   "metadata": {},
   "outputs": [
    {
     "data": {
      "text/html": [
       "<div>\n",
       "<style scoped>\n",
       "    .dataframe tbody tr th:only-of-type {\n",
       "        vertical-align: middle;\n",
       "    }\n",
       "\n",
       "    .dataframe tbody tr th {\n",
       "        vertical-align: top;\n",
       "    }\n",
       "\n",
       "    .dataframe thead th {\n",
       "        text-align: right;\n",
       "    }\n",
       "</style>\n",
       "<table border=\"1\" class=\"dataframe\">\n",
       "  <thead>\n",
       "    <tr style=\"text-align: right;\">\n",
       "      <th></th>\n",
       "      <th>INDEX_NR</th>\n",
       "      <th>INCIDENT_DATE</th>\n",
       "      <th>INCIDENT_MONTH</th>\n",
       "      <th>INCIDENT_YEAR</th>\n",
       "      <th>TIME</th>\n",
       "      <th>TIME_OF_DAY</th>\n",
       "      <th>AIRPORT_ID</th>\n",
       "      <th>AIRPORT</th>\n",
       "      <th>LATITUDE</th>\n",
       "      <th>LONGITUDE</th>\n",
       "      <th>...</th>\n",
       "      <th>SIZE</th>\n",
       "      <th>NR_INJURIES</th>\n",
       "      <th>NR_FATALITIES</th>\n",
       "      <th>COMMENTS</th>\n",
       "      <th>REPORTED_NAME</th>\n",
       "      <th>REPORTED_TITLE</th>\n",
       "      <th>SOURCE</th>\n",
       "      <th>PERSON</th>\n",
       "      <th>LUPDATE</th>\n",
       "      <th>TRANSFER</th>\n",
       "    </tr>\n",
       "  </thead>\n",
       "  <tbody>\n",
       "    <tr>\n",
       "      <th>0</th>\n",
       "      <td>608242</td>\n",
       "      <td>6/22/1996</td>\n",
       "      <td>June</td>\n",
       "      <td>1996</td>\n",
       "      <td>NaN</td>\n",
       "      <td>NaN</td>\n",
       "      <td>KSMF</td>\n",
       "      <td>SACRAMENTO INTL</td>\n",
       "      <td>38.69542</td>\n",
       "      <td>-121.59077</td>\n",
       "      <td>...</td>\n",
       "      <td>Medium</td>\n",
       "      <td>NaN</td>\n",
       "      <td>NaN</td>\n",
       "      <td>/Legacy Record=100001/</td>\n",
       "      <td>REDACTED</td>\n",
       "      <td>REDACTED</td>\n",
       "      <td>Air Transport Report</td>\n",
       "      <td>Air Transport Operations</td>\n",
       "      <td>12/20/2007</td>\n",
       "      <td>False</td>\n",
       "    </tr>\n",
       "    <tr>\n",
       "      <th>1</th>\n",
       "      <td>608243</td>\n",
       "      <td>6/26/1996</td>\n",
       "      <td>June</td>\n",
       "      <td>1996</td>\n",
       "      <td>NaN</td>\n",
       "      <td>NaN</td>\n",
       "      <td>KDEN</td>\n",
       "      <td>DENVER INTL AIRPORT</td>\n",
       "      <td>39.85841</td>\n",
       "      <td>-104.66700</td>\n",
       "      <td>...</td>\n",
       "      <td>Medium</td>\n",
       "      <td>NaN</td>\n",
       "      <td>NaN</td>\n",
       "      <td>/Legacy Record=100002/</td>\n",
       "      <td>REDACTED</td>\n",
       "      <td>REDACTED</td>\n",
       "      <td>Air Transport Report</td>\n",
       "      <td>Air Transport Operations</td>\n",
       "      <td>12/20/2007</td>\n",
       "      <td>False</td>\n",
       "    </tr>\n",
       "    <tr>\n",
       "      <th>2</th>\n",
       "      <td>608244</td>\n",
       "      <td>7/1/1996</td>\n",
       "      <td>July</td>\n",
       "      <td>1996</td>\n",
       "      <td>NaN</td>\n",
       "      <td>NaN</td>\n",
       "      <td>KOMA</td>\n",
       "      <td>EPPLEY AIRFIELD</td>\n",
       "      <td>41.30252</td>\n",
       "      <td>-95.89417</td>\n",
       "      <td>...</td>\n",
       "      <td>Medium</td>\n",
       "      <td>NaN</td>\n",
       "      <td>NaN</td>\n",
       "      <td>/Legacy Record=100003/</td>\n",
       "      <td>REDACTED</td>\n",
       "      <td>REDACTED</td>\n",
       "      <td>Air Transport Report</td>\n",
       "      <td>Air Transport Operations</td>\n",
       "      <td>12/20/2007</td>\n",
       "      <td>False</td>\n",
       "    </tr>\n",
       "    <tr>\n",
       "      <th>3</th>\n",
       "      <td>608245</td>\n",
       "      <td>7/1/1996</td>\n",
       "      <td>July</td>\n",
       "      <td>1996</td>\n",
       "      <td>NaN</td>\n",
       "      <td>NaN</td>\n",
       "      <td>KIAD</td>\n",
       "      <td>WASHINGTON DULLES INTL ARPT</td>\n",
       "      <td>38.94453</td>\n",
       "      <td>-77.45581</td>\n",
       "      <td>...</td>\n",
       "      <td>Medium</td>\n",
       "      <td>NaN</td>\n",
       "      <td>NaN</td>\n",
       "      <td>/Legacy Record=100004/</td>\n",
       "      <td>REDACTED</td>\n",
       "      <td>REDACTED</td>\n",
       "      <td>Air Transport Report</td>\n",
       "      <td>Air Transport Operations</td>\n",
       "      <td>12/20/2007</td>\n",
       "      <td>False</td>\n",
       "    </tr>\n",
       "    <tr>\n",
       "      <th>4</th>\n",
       "      <td>608246</td>\n",
       "      <td>7/1/1996</td>\n",
       "      <td>July</td>\n",
       "      <td>1996</td>\n",
       "      <td>NaN</td>\n",
       "      <td>NaN</td>\n",
       "      <td>KLGA</td>\n",
       "      <td>LA GUARDIA ARPT</td>\n",
       "      <td>40.77724</td>\n",
       "      <td>-73.87261</td>\n",
       "      <td>...</td>\n",
       "      <td>Medium</td>\n",
       "      <td>NaN</td>\n",
       "      <td>NaN</td>\n",
       "      <td>/Legacy Record=100005/</td>\n",
       "      <td>REDACTED</td>\n",
       "      <td>REDACTED</td>\n",
       "      <td>Air Transport Report</td>\n",
       "      <td>Air Transport Operations</td>\n",
       "      <td>12/20/2007</td>\n",
       "      <td>False</td>\n",
       "    </tr>\n",
       "  </tbody>\n",
       "</table>\n",
       "<p>5 rows × 100 columns</p>\n",
       "</div>"
      ],
      "text/plain": [
       "   INDEX_NR INCIDENT_DATE INCIDENT_MONTH  INCIDENT_YEAR TIME TIME_OF_DAY  \\\n",
       "0    608242     6/22/1996           June           1996  NaN         NaN   \n",
       "1    608243     6/26/1996           June           1996  NaN         NaN   \n",
       "2    608244      7/1/1996           July           1996  NaN         NaN   \n",
       "3    608245      7/1/1996           July           1996  NaN         NaN   \n",
       "4    608246      7/1/1996           July           1996  NaN         NaN   \n",
       "\n",
       "  AIRPORT_ID                      AIRPORT  LATITUDE  LONGITUDE  ...    SIZE  \\\n",
       "0       KSMF              SACRAMENTO INTL  38.69542 -121.59077  ...  Medium   \n",
       "1       KDEN          DENVER INTL AIRPORT  39.85841 -104.66700  ...  Medium   \n",
       "2       KOMA              EPPLEY AIRFIELD  41.30252  -95.89417  ...  Medium   \n",
       "3       KIAD  WASHINGTON DULLES INTL ARPT  38.94453  -77.45581  ...  Medium   \n",
       "4       KLGA              LA GUARDIA ARPT  40.77724  -73.87261  ...  Medium   \n",
       "\n",
       "  NR_INJURIES NR_FATALITIES                COMMENTS REPORTED_NAME  \\\n",
       "0         NaN           NaN  /Legacy Record=100001/      REDACTED   \n",
       "1         NaN           NaN  /Legacy Record=100002/      REDACTED   \n",
       "2         NaN           NaN  /Legacy Record=100003/      REDACTED   \n",
       "3         NaN           NaN  /Legacy Record=100004/      REDACTED   \n",
       "4         NaN           NaN  /Legacy Record=100005/      REDACTED   \n",
       "\n",
       "  REPORTED_TITLE                SOURCE                    PERSON     LUPDATE  \\\n",
       "0       REDACTED  Air Transport Report  Air Transport Operations  12/20/2007   \n",
       "1       REDACTED  Air Transport Report  Air Transport Operations  12/20/2007   \n",
       "2       REDACTED  Air Transport Report  Air Transport Operations  12/20/2007   \n",
       "3       REDACTED  Air Transport Report  Air Transport Operations  12/20/2007   \n",
       "4       REDACTED  Air Transport Report  Air Transport Operations  12/20/2007   \n",
       "\n",
       "  TRANSFER  \n",
       "0    False  \n",
       "1    False  \n",
       "2    False  \n",
       "3    False  \n",
       "4    False  \n",
       "\n",
       "[5 rows x 100 columns]"
      ]
     },
     "execution_count": 39,
     "metadata": {},
     "output_type": "execute_result"
    }
   ],
   "source": [
    "df.head(5)"
   ]
  },
  {
   "cell_type": "code",
   "execution_count": 40,
   "id": "dc13016b",
   "metadata": {},
   "outputs": [
    {
     "name": "stderr",
     "output_type": "stream",
     "text": [
      "C:\\Users\\KPMal\\anaconda3\\envs\\Py3-9\\lib\\site-packages\\seaborn\\_oldcore.py:1498: FutureWarning: is_categorical_dtype is deprecated and will be removed in a future version. Use isinstance(dtype, CategoricalDtype) instead\n",
      "  if pd.api.types.is_categorical_dtype(vector):\n",
      "C:\\Users\\KPMal\\anaconda3\\envs\\Py3-9\\lib\\site-packages\\seaborn\\_oldcore.py:1498: FutureWarning: is_categorical_dtype is deprecated and will be removed in a future version. Use isinstance(dtype, CategoricalDtype) instead\n",
      "  if pd.api.types.is_categorical_dtype(vector):\n",
      "C:\\Users\\KPMal\\anaconda3\\envs\\Py3-9\\lib\\site-packages\\seaborn\\_oldcore.py:1498: FutureWarning: is_categorical_dtype is deprecated and will be removed in a future version. Use isinstance(dtype, CategoricalDtype) instead\n",
      "  if pd.api.types.is_categorical_dtype(vector):\n"
     ]
    },
    {
     "data": {
      "text/plain": [
       "[Text(0.5, 1.0, 'Injuries reported based on size')]"
      ]
     },
     "execution_count": 40,
     "metadata": {},
     "output_type": "execute_result"
    },
    {
     "data": {
      "image/png": "[encoded data removed]",
      "text/plain": [
       "<Figure size 2000x1500 with 1 Axes>"
      ]
     },
     "metadata": {},
     "output_type": "display_data"
    }
   ],
   "source": [
    "sns.barplot(data=df, x='SIZE', y='NR_INJURIES').set(title='Injuries reported based on size')"
   ]
  },
  {
   "cell_type": "code",
   "execution_count": 41,
   "id": "2866715d",
   "metadata": {},
   "outputs": [],
   "source": [
    "#sns.lineplot(x = \"INCIDENT_DATE\", y = \"Count\", data = df) "
   ]
  },
  {
   "cell_type": "code",
   "execution_count": null,
   "id": "19659035",
   "metadata": {},
   "outputs": [],
   "source": []
  }
 ],
 "metadata": {
  "kernelspec": {
   "display_name": "Python 3 (ipykernel)",
   "language": "python",
   "name": "python3"
  },
  "language_info": {
   "codemirror_mode": {
    "name": "ipython",
    "version": 3
   },
   "file_extension": ".py",
   "mimetype": "text/x-python",
   "name": "python",
   "nbconvert_exporter": "python",
   "pygments_lexer": "ipython3",
   "version": "3.9.17"
  }
 },
 "nbformat": 4,
 "nbformat_minor": 5
}
